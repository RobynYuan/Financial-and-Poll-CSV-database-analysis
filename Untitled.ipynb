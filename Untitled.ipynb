{
 "cells": [
  {
   "cell_type": "code",
   "execution_count": null,
   "id": "c36406de",
   "metadata": {},
   "outputs": [],
   "source": [
    "# Import dependencies\n",
    "import os\n",
    "import csv\n",
    "# Define the path and read in the csv file\n",
    "with open(\"Resources/budget_data.csv\", 'r') as budget_data:\n",
    "    csv_reader=csv.reader (budget_data, delimiter=',')\n",
    "# Declaration for the variable   \n",
    "    months=[]\n",
    "    profit_Losses=[]\n",
    "    csv_header=next(csv_reader)\n",
    "    monthly_change=[]\n",
    "# Looping through the csv files to parse into two lists, one is for the months, the other is for the profit/losses, also change the profit/losses to interger\n",
    "    for row in csv_reader:\n",
    "        months.append(row[0])\n",
    "        profit_Losses.append((int)(row[1]))\n",
    "# caculate the net total \n",
    "        net_total=sum(profit_Losses)\n",
    "# Looping through the profit_looses list to populate the variable \"monthly change'\n",
    "    for i in range(len(profit_Losses)-1):\n",
    "        monthly_change.append(profit_Losses[i+1]-profit_Losses[i])\n",
    "# Find the max and min for the monthly_change and index the row that gives the max and min \n",
    "    max_increase=max(monthly_change)\n",
    "    max_decrease=min(monthly_change)\n",
    "    max_increase_month=monthly_change.index(max_increase)+1\n",
    "    max_decrease_month=monthly_change.index(max_decrease)+1\n",
    "# Print the results    \n",
    "print(\"Financial Analysis\")\n",
    "print(\"--------------------------\")\n",
    "print (f\"Total Months:{len(months)}\")\n",
    "print (f\"Total: $ {net_total}\")\n",
    "print (f\"Average  Change: ${round(sum(monthly_change)/(len(profit_Losses)-1),2)}\")\n",
    "print(f\"Greatest Increase in Profits: {months [max_increase_month]}(${max_increase})\")\n",
    "print(f\"Greatest Decrease in Profits: {months [max_decrease_month]}(${max_decrease})\")\n",
    "# write the result to a txt file in analysis folder\n",
    "f = open(\"analysis/PyBank_analysis.txt\", 'w')\n",
    "f.write(\"Financial Analysis\\n\")\n",
    "f.write(\"--------------------------\\n\")\n",
    "f.write (f\"Total Months:{len(months)}\\n\")\n",
    "f.write (f\"Total: $ {net_total}\\n\")\n",
    "f.write (f\"Average  Change: ${round(sum(monthly_change)/(len(profit_Losses)-1),2)}\\n\")\n",
    "f.write(f\"Greatest Increase in Profits: {months [max_increase_month]}(${max_increase})\\n\")\n",
    "f.write(f\"Greatest Decrease in Profits: {months [max_decrease_month]}(${max_decrease})\\n\")\n",
    "f.close()\n",
    "# Checking if the data is written to file or not\n",
    "file= open('analysis/PyBank_analysis.txt', 'r')\n",
    "print(file.read())\n",
    "file.close()\n"
   ]
  },
  {
   "cell_type": "code",
   "execution_count": null,
   "id": "c7a7cf81",
   "metadata": {},
   "outputs": [],
   "source": []
  },
  {
   "cell_type": "code",
   "execution_count": null,
   "id": "ac6d7044",
   "metadata": {},
   "outputs": [],
   "source": []
  },
  {
   "cell_type": "code",
   "execution_count": null,
   "id": "2d71849c",
   "metadata": {},
   "outputs": [],
   "source": []
  }
 ],
 "metadata": {
  "kernelspec": {
   "display_name": "Python 3 (ipykernel)",
   "language": "python",
   "name": "python3"
  },
  "language_info": {
   "codemirror_mode": {
    "name": "ipython",
    "version": 3
   },
   "file_extension": ".py",
   "mimetype": "text/x-python",
   "name": "python",
   "nbconvert_exporter": "python",
   "pygments_lexer": "ipython3",
   "version": "3.9.7"
  }
 },
 "nbformat": 4,
 "nbformat_minor": 5
}
